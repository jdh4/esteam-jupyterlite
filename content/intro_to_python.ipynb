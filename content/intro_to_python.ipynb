{
 "cells": [
  {
   "cell_type": "markdown",
   "id": "bf5c1d50",
   "metadata": {},
   "source": [
    "# Introduction to Python"
   ]
  },
  {
   "cell_type": "markdown",
   "id": "f8197788",
   "metadata": {},
   "source": [
    "Python is a general purpose programming language. It is the most common language used for writing artificial intelligence software and for doing data science."
   ]
  },
  {
   "cell_type": "markdown",
   "id": "b2daebdc",
   "metadata": {},
   "source": [
    "### How to use Jupyter notebooks"
   ]
  },
  {
   "cell_type": "markdown",
   "id": "6d9848a2",
   "metadata": {},
   "source": [
    "Click on a cell using the mouse and hit the \"play\" or \"Run\" button above to execute the code in the cell. You can also hold down the \"shift\" key and then press \"enter/return\" to execute a cell.\n",
    "\n",
    "To insert a cell, choose \"Insert\" in the menu then either \"Insert Cell Above\" or \"Insert Cell Below\". After inserting the cell, to type in the cell either click on it or hit the \"enter/return\" key.\n",
    "\n",
    "After a variable is defined it can be referenced below the line where it is defined."
   ]
  },
  {
   "cell_type": "markdown",
   "id": "dfc18fe5",
   "metadata": {},
   "source": [
    "## Variables"
   ]
  },
  {
   "cell_type": "markdown",
   "id": "0ef0f4a5",
   "metadata": {},
   "source": [
    "We define variables using the equals sign:"
   ]
  },
  {
   "cell_type": "code",
   "execution_count": null,
   "id": "a987c626",
   "metadata": {},
   "outputs": [],
   "source": [
    "x = 1"
   ]
  },
  {
   "cell_type": "code",
   "execution_count": null,
   "id": "ff9ce7f9",
   "metadata": {},
   "outputs": [],
   "source": [
    "y = 2"
   ]
  },
  {
   "cell_type": "code",
   "execution_count": null,
   "id": "4352ea84",
   "metadata": {},
   "outputs": [],
   "source": [
    "z = x + y"
   ]
  },
  {
   "cell_type": "code",
   "execution_count": null,
   "id": "7a63e26b",
   "metadata": {},
   "outputs": [],
   "source": [
    "print(x + y)"
   ]
  },
  {
   "cell_type": "markdown",
   "id": "85234c6d",
   "metadata": {},
   "source": [
    "In addition to numbers, we can work with words:"
   ]
  },
  {
   "cell_type": "code",
   "execution_count": null,
   "id": "6da3a132",
   "metadata": {},
   "outputs": [],
   "source": [
    "sentence = \"I like Python\"\n",
    "print(sentence)"
   ]
  },
  {
   "cell_type": "markdown",
   "id": "a35b0669",
   "metadata": {},
   "source": [
    "### Exercise"
   ]
  },
  {
   "cell_type": "markdown",
   "id": "9a240a67",
   "metadata": {},
   "source": [
    "Can you modify the sentence variable above to be \"Python is cool\" and then print it by running the cell."
   ]
  },
  {
   "cell_type": "markdown",
   "id": "73ae8d43",
   "metadata": {},
   "source": [
    "Create a new variable in the cell below called w and set it to 5. Then add w and z in a print statement. Is the result 8? Try it out below:"
   ]
  },
  {
   "cell_type": "code",
   "execution_count": null,
   "id": "1b82fc8c",
   "metadata": {},
   "outputs": [],
   "source": [
    "# you write code here"
   ]
  },
  {
   "cell_type": "markdown",
   "id": "489ee90a",
   "metadata": {},
   "source": [
    "## Modules"
   ]
  },
  {
   "cell_type": "markdown",
   "id": "268e9a78",
   "metadata": {},
   "source": [
    "Let's try to compute the sine of pi:"
   ]
  },
  {
   "cell_type": "code",
   "execution_count": null,
   "id": "d49aa8c6",
   "metadata": {},
   "outputs": [],
   "source": [
    "sin(3.1415)"
   ]
  },
  {
   "cell_type": "markdown",
   "id": "4a9d4595",
   "metadata": {},
   "source": [
    "We see that the sine function is not defined. To use the sine function we need to load the math module:"
   ]
  },
  {
   "cell_type": "code",
   "execution_count": null,
   "id": "f86fc183",
   "metadata": {},
   "outputs": [],
   "source": [
    "import math"
   ]
  },
  {
   "cell_type": "code",
   "execution_count": null,
   "id": "742de868",
   "metadata": {},
   "outputs": [],
   "source": [
    "print(math.sin(3.1415))"
   ]
  },
  {
   "cell_type": "code",
   "execution_count": null,
   "id": "674bce57",
   "metadata": {},
   "outputs": [],
   "source": [
    "print(math.sin(math.pi))"
   ]
  },
  {
   "cell_type": "code",
   "execution_count": null,
   "id": "52e5fd0d",
   "metadata": {},
   "outputs": [],
   "source": [
    "print(math.pi)"
   ]
  },
  {
   "cell_type": "markdown",
   "id": "f586159e",
   "metadata": {},
   "source": [
    "There is also a square root function:"
   ]
  },
  {
   "cell_type": "code",
   "execution_count": null,
   "id": "14e13327",
   "metadata": {},
   "outputs": [],
   "source": [
    "print(math.sqrt(16))"
   ]
  },
  {
   "cell_type": "markdown",
   "id": "97d4b7ce",
   "metadata": {},
   "source": [
    "To see all of the math functions remove the \"#\" in the line below and run the cell:"
   ]
  },
  {
   "cell_type": "code",
   "execution_count": null,
   "id": "f29bc037",
   "metadata": {},
   "outputs": [],
   "source": [
    "#help(math)"
   ]
  },
  {
   "cell_type": "markdown",
   "id": "ded96c4e",
   "metadata": {},
   "source": [
    "### Exercise"
   ]
  },
  {
   "cell_type": "markdown",
   "id": "13f42608",
   "metadata": {},
   "source": [
    "What is the cosine of pi/2?"
   ]
  },
  {
   "cell_type": "code",
   "execution_count": null,
   "id": "60207faa",
   "metadata": {},
   "outputs": [],
   "source": [
    "# you write code here"
   ]
  },
  {
   "cell_type": "markdown",
   "id": "fec6c7d7",
   "metadata": {},
   "source": [
    "## Loops"
   ]
  },
  {
   "cell_type": "code",
   "execution_count": null,
   "id": "2466d137",
   "metadata": {},
   "outputs": [],
   "source": [
    "for i in range(5):\n",
    "    print(i)"
   ]
  },
  {
   "cell_type": "code",
   "execution_count": null,
   "id": "641a1e72",
   "metadata": {},
   "outputs": [],
   "source": [
    "for i in range(1, 6):\n",
    "    print(i)"
   ]
  },
  {
   "cell_type": "markdown",
   "id": "90eef1d1",
   "metadata": {},
   "source": [
    "For loops are useful for computing sums:"
   ]
  },
  {
   "cell_type": "code",
   "execution_count": null,
   "id": "d22558d0",
   "metadata": {},
   "outputs": [],
   "source": [
    "sum = 0\n",
    "for i in range(1, 6):\n",
    "    sum = sum + i\n",
    "print(sum)"
   ]
  },
  {
   "cell_type": "markdown",
   "id": "774a7461",
   "metadata": {},
   "source": [
    "The for loop above is used to compute this sum:"
   ]
  },
  {
   "cell_type": "code",
   "execution_count": null,
   "id": "6825acd5",
   "metadata": {},
   "outputs": [],
   "source": [
    "1 + 2 + 3 + 4 + 5"
   ]
  },
  {
   "cell_type": "markdown",
   "id": "8bd83701",
   "metadata": {},
   "source": [
    "### Exercise"
   ]
  },
  {
   "cell_type": "markdown",
   "id": "8c570ac5",
   "metadata": {},
   "source": [
    "Write a for loop to sum the integers from 1 to 1 million (i.e., 1 + 2 + 3 + ... + 1000000). Is the sum greater than 500 billion? How long did it take the computer to do the calculation? How long would it take a person to do the sum by hand?"
   ]
  },
  {
   "cell_type": "code",
   "execution_count": null,
   "id": "38dd991e",
   "metadata": {},
   "outputs": [],
   "source": [
    "# you write code here"
   ]
  },
  {
   "cell_type": "markdown",
   "id": "5571b9b8",
   "metadata": {},
   "source": [
    "## Functions"
   ]
  },
  {
   "cell_type": "code",
   "execution_count": null,
   "id": "deaff71a",
   "metadata": {},
   "outputs": [],
   "source": [
    "x = math.pi * 3**2\n",
    "y = math.pi * 7**2"
   ]
  },
  {
   "cell_type": "code",
   "execution_count": null,
   "id": "3c1bc402",
   "metadata": {},
   "outputs": [],
   "source": [
    "print(y)"
   ]
  },
  {
   "cell_type": "markdown",
   "id": "7d9df0be",
   "metadata": {},
   "source": [
    "Functions make it easy to reuse code:"
   ]
  },
  {
   "cell_type": "code",
   "execution_count": null,
   "id": "085df6b6",
   "metadata": {},
   "outputs": [],
   "source": [
    "def area_of_circle(radius):\n",
    "    return math.pi * radius**2"
   ]
  },
  {
   "cell_type": "code",
   "execution_count": null,
   "id": "4106a1c4",
   "metadata": {},
   "outputs": [],
   "source": [
    "z = area_of_circle(radius=7)\n",
    "print(z)"
   ]
  },
  {
   "cell_type": "markdown",
   "id": "61db7db4",
   "metadata": {},
   "source": [
    "### Exercise"
   ]
  },
  {
   "cell_type": "markdown",
   "id": "e67d9a81",
   "metadata": {},
   "source": [
    "Can you use the area_of_circle function to calculate and print the area of a circle with radius 8?"
   ]
  },
  {
   "cell_type": "code",
   "execution_count": null,
   "id": "285c7256",
   "metadata": {},
   "outputs": [],
   "source": [
    "# you write code here"
   ]
  },
  {
   "cell_type": "markdown",
   "id": "a0ee115e",
   "metadata": {},
   "source": [
    "## DataFrames"
   ]
  },
  {
   "cell_type": "code",
   "execution_count": null,
   "id": "b0ae56cb",
   "metadata": {},
   "outputs": [],
   "source": [
    "import pandas as pd"
   ]
  },
  {
   "cell_type": "code",
   "execution_count": null,
   "id": "82de3d69",
   "metadata": {},
   "outputs": [],
   "source": [
    "df = pd.DataFrame({\"city\":[\"Denver\", \"Albuquerque\", \"Mexico City\", \"Princeton\"],\n",
    "                   \"elevation\":[5280, 5312, 7382, 203],\n",
    "                   \"population\":[711463, 562599, 22281000, 30872]})\n",
    "df"
   ]
  },
  {
   "cell_type": "markdown",
   "id": "7888327b",
   "metadata": {},
   "source": [
    "Compute the mean elevation:"
   ]
  },
  {
   "cell_type": "code",
   "execution_count": null,
   "id": "803b429c",
   "metadata": {},
   "outputs": [],
   "source": [
    "df[\"elevation\"].mean()"
   ]
  },
  {
   "cell_type": "markdown",
   "id": "057de68b",
   "metadata": {},
   "source": [
    "Find the maximum population:"
   ]
  },
  {
   "cell_type": "code",
   "execution_count": null,
   "id": "774d421a",
   "metadata": {},
   "outputs": [],
   "source": [
    "df[\"population\"].max()"
   ]
  },
  {
   "cell_type": "markdown",
   "id": "e4d5e8f8",
   "metadata": {},
   "source": [
    "Create a dataframe with only city and population (i.e., drop elevation):"
   ]
  },
  {
   "cell_type": "code",
   "execution_count": null,
   "id": "c00be01f",
   "metadata": {},
   "outputs": [],
   "source": [
    "df[[\"city\", \"population\"]]"
   ]
  },
  {
   "cell_type": "markdown",
   "id": "7473ae5b",
   "metadata": {},
   "source": [
    "### Exercise"
   ]
  },
  {
   "cell_type": "markdown",
   "id": "0a4ce72a",
   "metadata": {},
   "source": [
    "Can you create a dataframe that only includes population and elevation?"
   ]
  },
  {
   "cell_type": "code",
   "execution_count": null,
   "id": "2df067ac",
   "metadata": {},
   "outputs": [],
   "source": [
    "# you write code here"
   ]
  },
  {
   "cell_type": "markdown",
   "id": "543ac078",
   "metadata": {},
   "source": [
    "# How to Learn Python (after today)"
   ]
  },
  {
   "cell_type": "markdown",
   "id": "59f65bc7",
   "metadata": {},
   "source": [
    "Try working through this [popular guide](https://swcarpentry.github.io/python-novice-inflammation/) or watch [these videos on YouTube](https://www.youtube.com/watch?v=nLRL_NcnK-4)."
   ]
  }
 ],
 "metadata": {
  "kernelspec": {
   "display_name": "Python 3 (ipykernel)",
   "language": "python",
   "name": "python3"
  },
  "language_info": {
   "codemirror_mode": {
    "name": "ipython",
    "version": 3
   },
   "file_extension": ".py",
   "mimetype": "text/x-python",
   "name": "python",
   "nbconvert_exporter": "python",
   "pygments_lexer": "ipython3",
   "version": "3.9.12"
  }
 },
 "nbformat": 4,
 "nbformat_minor": 5
}
