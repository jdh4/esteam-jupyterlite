{
 "cells": [
  {
   "cell_type": "markdown",
   "id": "b7651576",
   "metadata": {},
   "source": [
    "# Introduction to Machine Learning with Python\n",
    "### eSTEAM Program\n",
    "### Saturday, October 28, 2023"
   ]
  },
  {
   "cell_type": "markdown",
   "id": "327bc767",
   "metadata": {},
   "source": [
    "![sky](https://storage.googleapis.com/kaggle-datasets-images/29/33/default-backgrounds/dataset-cover.jpg)\n",
    "\n",
    "### How to use Jupyter notebooks\n",
    "\n",
    "Click on a cell using the mouse and hit the \"play\" or \"Run\" button above to execute the code in the cell. You can also hold down the \"shift\" key and then press \"enter\" to execute a cell.\n",
    "\n",
    "To insert a cell, choose \"Insert\" in the menu then either \"Insert Cell Above\" or \"Insert Cell Below\". After inserting the cell, to type in the cell either click on it or hit the \"enter/return\" key.\n",
    "\n",
    "After a variable is defined it can be referenced below the line where it is defined."
   ]
  },
  {
   "cell_type": "markdown",
   "id": "5f281fdc",
   "metadata": {},
   "source": [
    "### Distance between points"
   ]
  },
  {
   "cell_type": "markdown",
   "id": "25ca8866",
   "metadata": {},
   "source": [
    "First, we load some Python modules to make certain functionality available below:"
   ]
  },
  {
   "cell_type": "code",
   "execution_count": null,
   "id": "a73c80af",
   "metadata": {},
   "outputs": [],
   "source": [
    "import matplotlib.pyplot as plt\n",
    "import pandas as pd\n",
    "from sklearn.neighbors import KNeighborsClassifier"
   ]
  },
  {
   "cell_type": "markdown",
   "id": "277949d6",
   "metadata": {},
   "source": [
    "Below we define the coordinates of two points:"
   ]
  },
  {
   "cell_type": "code",
   "execution_count": null,
   "id": "178550a0",
   "metadata": {},
   "outputs": [],
   "source": [
    "x1, y1 = (0, 0)\n",
    "x2, y2 = (1, 1)"
   ]
  },
  {
   "cell_type": "markdown",
   "id": "951f47fe",
   "metadata": {},
   "source": [
    "Let's plot the points:"
   ]
  },
  {
   "cell_type": "code",
   "execution_count": null,
   "id": "28349329",
   "metadata": {},
   "outputs": [],
   "source": [
    "plt.plot([x1, x2], [y1, y2], marker=\"o\", markersize=10, ls=\"dashed\")\n",
    "plt.xlabel(\"x\")\n",
    "plt.ylabel(\"y\")\n",
    "plt.show()"
   ]
  },
  {
   "cell_type": "markdown",
   "id": "f435fe9d",
   "metadata": {},
   "source": [
    "The distance between the two points can be calculated as follows:"
   ]
  },
  {
   "cell_type": "code",
   "execution_count": null,
   "id": "c885d896",
   "metadata": {},
   "outputs": [],
   "source": [
    "distance = ((x1 - x2)**2 + (y1 - y2)**2)**0.5\n",
    "print(distance)"
   ]
  },
  {
   "cell_type": "markdown",
   "id": "2fbb930f",
   "metadata": {},
   "source": [
    "Does the number above seem familiar to you? Can you use trigonometry (the Pythagorean theorem) to confirm the result above?"
   ]
  },
  {
   "cell_type": "markdown",
   "id": "caa6887a",
   "metadata": {},
   "source": [
    "Here we use [Euclidean distance](https://en.wikipedia.org/wiki/Euclidean_distance). There are many other definitions of distance such as [Manhattan distance](https://en.wikipedia.org/wiki/Taxicab_geometry) and [Haversine distance](https://en.wikipedia.org/wiki/Haversine_formula)."
   ]
  },
  {
   "cell_type": "markdown",
   "id": "28ffe817",
   "metadata": {},
   "source": [
    "### Exercise 1"
   ]
  },
  {
   "cell_type": "markdown",
   "id": "da0a6526",
   "metadata": {},
   "source": [
    "What is the distance between the points when x1=2, y1=7 and x2=6, y2=5?"
   ]
  },
  {
   "cell_type": "code",
   "execution_count": null,
   "id": "de18a3da",
   "metadata": {},
   "outputs": [],
   "source": [
    "# you write code here"
   ]
  },
  {
   "cell_type": "markdown",
   "id": "bbbd8120",
   "metadata": {},
   "source": [
    "Now that we have reminded ourselves about distance and how to calculate it using a computer, let's train a machine learning model to classify the cells of breast tissue as malignant (harmful) or benign (not harmful). To do this will we use a simple machine learning model called k-nearest neighbors."
   ]
  },
  {
   "cell_type": "markdown",
   "id": "3a374caa",
   "metadata": {},
   "source": [
    "# k-Nearest Neighbors for Classification"
   ]
  },
  {
   "cell_type": "markdown",
   "id": "d4aa7c9b",
   "metadata": {},
   "source": [
    "[This algorithm](https://en.wikipedia.org/wiki/K-nearest_neighbors_algorithm) works by making a prediction based on the class labels of the samples that are closest to it. Consider the figure below showing two classes (blue squares and red triangles). You want to classify the green circle as one of the two classes. kNN looks to see which classes are closest and makes a decision based on that.\n",
    "\n",
    "![kNN](https://tigress-web.princeton.edu/~jdh4/KnnClassification.png)"
   ]
  },
  {
   "cell_type": "markdown",
   "id": "03944630",
   "metadata": {},
   "source": [
    "Should the green circle be classified as a red triangle or a blue square? If we consider the 3 closest neighbors (solid circle) then it would be classified as a red triangle since there are 2 red triangles and only 1 blue square (majority wins). If we consider the 5 closest neighbors in making the decision (the dashed circle) then the green circle would be classified as a blue square since there are more neighbors of that class."
   ]
  },
  {
   "cell_type": "markdown",
   "id": "373a196a",
   "metadata": {},
   "source": [
    "### Exercise 2"
   ]
  },
  {
   "cell_type": "markdown",
   "id": "44c8fb88",
   "metadata": {},
   "source": [
    "Can you think of a case where k-nearest neighbors should work well to distinguish two classes?\n",
    "\n",
    "For instance, if you had the height and weight of everyone at an elementary school, would \n",
    "you be able to train a k-NN model to distingish teachers from students and then apply the model successfully at another elementary school? Would it work at a college?"
   ]
  },
  {
   "cell_type": "markdown",
   "id": "e1716c85",
   "metadata": {},
   "source": [
    "\n",
    "\n",
    "\n",
    "\n",
    "# Medical Diagnosis: Wisconsin Breast Cancer Dataset"
   ]
  },
  {
   "cell_type": "markdown",
   "id": "05ac922a",
   "metadata": {},
   "source": [
    "Our goal is to train a model to classify tissue samples as either malignant (positive) or benign (negative)."
   ]
  },
  {
   "cell_type": "markdown",
   "id": "ef320552",
   "metadata": {},
   "source": [
    "![positive_negative](https://tigress-web.princeton.edu/~jdh4/positive_negative.jpeg)"
   ]
  },
  {
   "cell_type": "markdown",
   "id": "e63ef796",
   "metadata": {},
   "source": [
    "In the next line we read in the data and store it in df:"
   ]
  },
  {
   "cell_type": "code",
   "execution_count": null,
   "id": "3f0332f9",
   "metadata": {},
   "outputs": [],
   "source": [
    "df = pd.read_csv(\"https://tigress-web.princeton.edu/~jdh4/wdbc.csv\")"
   ]
  },
  {
   "cell_type": "markdown",
   "id": "3bdc825f",
   "metadata": {},
   "source": [
    "The [original data set](https://archive.ics.uci.edu/dataset/17/breast+cancer+wisconsin+diagnostic) includes these measurements and more for each sample:\n",
    "\n",
    "- ID number\n",
    "- Diagnosis (M = malignant, B = benign).\n",
    "- Radius (the mean of distances from the centre to points on the perimeter).\n",
    "- Texture (the standard deviation of gray-scale values).\n",
    "- Perimeter\n",
    "- Area\n",
    "- Smoothness (the local variation in radius lengths).\n",
    "- Compactness (the perimeter^2 / area - 1.0).\n",
    "- Concavity (the severity of concave portions of the contour).\n",
    "- Concave points (the number of concave portions of the contour).\n",
    "- Symmetry\n",
    "- Fractal dimension (\"coastline approximation\" - 1)."
   ]
  },
  {
   "cell_type": "code",
   "execution_count": null,
   "id": "f7a1e882",
   "metadata": {},
   "outputs": [],
   "source": [
    "df.tail(3).T"
   ]
  },
  {
   "cell_type": "markdown",
   "id": "b8494fba",
   "metadata": {},
   "source": [
    "For simplicity we will use only the first two features, namely, radius and texture:"
   ]
  },
  {
   "cell_type": "code",
   "execution_count": null,
   "id": "83cd68c5",
   "metadata": {},
   "outputs": [],
   "source": [
    "X_train = df[[\"radius\", \"texture\"]].values\n",
    "y_train = df[\"target\"].values"
   ]
  },
  {
   "cell_type": "markdown",
   "id": "8c16062c",
   "metadata": {},
   "source": [
    "The function below is used for making plots (you do not need to understand how it works)."
   ]
  },
  {
   "cell_type": "code",
   "execution_count": null,
   "id": "cd1b3b2d",
   "metadata": {},
   "outputs": [],
   "source": [
    "def make_plot(radius=None, texture=None, zoom=False):\n",
    "    plt.figure(figsize=(9,6))\n",
    "    if zoom: plt.scatter([radius], [texture], color=\"w\", edgecolor=\"k\", marker=\"o\", s=50000)\n",
    "    plt.scatter(df[df.target == \"Malignant\"][\"radius\"].values, df[df.target == \"Malignant\"][\"texture\"].values, marker=\"s\", label=\"Malignant\")\n",
    "    plt.scatter(df[df.target == \"Benign\"][\"radius\"].values, df[df.target == \"Benign\"][\"texture\"].values, marker=\"^\", color=\"r\", label=\"Benign\")\n",
    "    if radius and texture:\n",
    "        plt.scatter([radius], [texture], color=\"lightgreen\", edgecolor=\"k\", marker=\"o\", s=200)\n",
    "        if zoom:\n",
    "            d = 1\n",
    "            plt.xlim(radius - d, radius + d)\n",
    "            plt.ylim(texture - d, texture + d)\n",
    "    plt.xlabel(\"Radius\")\n",
    "    plt.ylabel(\"Texture\")\n",
    "    plt.legend()\n",
    "    plt.show()"
   ]
  },
  {
   "cell_type": "code",
   "execution_count": null,
   "id": "e2794810",
   "metadata": {},
   "outputs": [],
   "source": [
    "make_plot()"
   ]
  },
  {
   "cell_type": "markdown",
   "id": "3d03ab84",
   "metadata": {},
   "source": [
    "Create an instance of the kNN classifer with 5 neighbors:"
   ]
  },
  {
   "cell_type": "code",
   "execution_count": null,
   "id": "d5dff5ae",
   "metadata": {},
   "outputs": [],
   "source": [
    "number_of_neighbors = 5\n",
    "kNN = KNeighborsClassifier(number_of_neighbors)"
   ]
  },
  {
   "cell_type": "markdown",
   "id": "328039b1",
   "metadata": {},
   "source": [
    "Fit the model using the training data:"
   ]
  },
  {
   "cell_type": "code",
   "execution_count": null,
   "id": "042cb1ed",
   "metadata": {},
   "outputs": [],
   "source": [
    "kNN = kNN.fit(X_train, y_train)"
   ]
  },
  {
   "cell_type": "markdown",
   "id": "599fe86e",
   "metadata": {},
   "source": [
    "We can now apply the model to new samples. For instance, what is the prediction for the following case:"
   ]
  },
  {
   "cell_type": "code",
   "execution_count": null,
   "id": "b3904e51",
   "metadata": {},
   "outputs": [],
   "source": [
    "radius = 20\n",
    "texture = 20"
   ]
  },
  {
   "cell_type": "code",
   "execution_count": null,
   "id": "efd486c8",
   "metadata": {},
   "outputs": [],
   "source": [
    "make_plot(radius, texture)"
   ]
  },
  {
   "cell_type": "markdown",
   "id": "cfa0bb6a",
   "metadata": {},
   "source": [
    "We can call the predict function on the model to see the prediction for the given values of radius and texture:"
   ]
  },
  {
   "cell_type": "code",
   "execution_count": null,
   "id": "dba75a0e",
   "metadata": {},
   "outputs": [],
   "source": [
    "print(kNN.predict([[radius, texture]]))"
   ]
  },
  {
   "cell_type": "markdown",
   "id": "7ab7ad5e",
   "metadata": {},
   "source": [
    "The prediction of \"Malignant\" is correct."
   ]
  },
  {
   "cell_type": "markdown",
   "id": "13a643c5",
   "metadata": {},
   "source": [
    "### Exercise 3"
   ]
  },
  {
   "cell_type": "markdown",
   "id": "efa59c5f",
   "metadata": {},
   "source": [
    "Create a plot and generate a prediction for the following new case:"
   ]
  },
  {
   "cell_type": "code",
   "execution_count": null,
   "id": "d34b985b",
   "metadata": {},
   "outputs": [],
   "source": [
    "radius = 10\n",
    "texture = 15"
   ]
  },
  {
   "cell_type": "code",
   "execution_count": null,
   "id": "6088d40d",
   "metadata": {},
   "outputs": [],
   "source": [
    "# you write code here"
   ]
  },
  {
   "cell_type": "markdown",
   "id": "18c8ef81",
   "metadata": {},
   "source": [
    "# Confidence and Correctness"
   ]
  },
  {
   "cell_type": "markdown",
   "id": "9fa68aa0",
   "metadata": {},
   "source": [
    "We can be confident in the two predictions above because the test points are surrounded exclusively by the same class. What about the following case?"
   ]
  },
  {
   "cell_type": "code",
   "execution_count": null,
   "id": "3934bb28",
   "metadata": {},
   "outputs": [],
   "source": [
    "radius = 13\n",
    "texture = 20"
   ]
  },
  {
   "cell_type": "markdown",
   "id": "8690742d",
   "metadata": {},
   "source": [
    "### Exercise 4"
   ]
  },
  {
   "cell_type": "markdown",
   "id": "05006d91",
   "metadata": {},
   "source": [
    "Make a plot and a prediction for the new test case. Are you confident about the prediction?"
   ]
  },
  {
   "cell_type": "code",
   "execution_count": null,
   "id": "983292d7",
   "metadata": {},
   "outputs": [],
   "source": [
    "# you write code here"
   ]
  },
  {
   "cell_type": "markdown",
   "id": "d89499d0",
   "metadata": {},
   "source": [
    "Remove the \"#\" in the line below and run the code. You will get an output of the form [[P1 P2]] where P1 is the probability of being Benign and P2 is the probability of being Malignent. Probability varies between 0 and 1. The higher the probability the more confident one can be about the prediction."
   ]
  },
  {
   "cell_type": "code",
   "execution_count": null,
   "id": "0f0d49ff",
   "metadata": {},
   "outputs": [],
   "source": [
    "#print(kNN.predict_proba([[radius, texture]]))"
   ]
  },
  {
   "cell_type": "markdown",
   "id": "19a478eb",
   "metadata": {},
   "source": [
    "Remove the \"#\" character in the line below and run the code to zoom in on the test point so that we can see the 5 nearest neighbors:"
   ]
  },
  {
   "cell_type": "code",
   "execution_count": null,
   "id": "79a63927",
   "metadata": {},
   "outputs": [],
   "source": [
    "#make_plot(radius, texture, zoom=True)"
   ]
  },
  {
   "cell_type": "markdown",
   "id": "faf78fdb",
   "metadata": {},
   "source": [
    "Looking at the figure above, do the predicted probabilities make sense?"
   ]
  },
  {
   "cell_type": "markdown",
   "id": "7e884f2d",
   "metadata": {},
   "source": [
    "What would happen if a patient with a malignant tumor was told that it was benign?"
   ]
  },
  {
   "cell_type": "markdown",
   "id": "5d1af0ae",
   "metadata": {},
   "source": [
    "What would happen if a patient with a benign tumor was told that it was malignment?"
   ]
  },
  {
   "cell_type": "markdown",
   "id": "bce8ead1",
   "metadata": {},
   "source": [
    "What should a patient be told when the prediction of a machine learning model is not very confident?"
   ]
  },
  {
   "cell_type": "markdown",
   "id": "2c8cedef",
   "metadata": {},
   "source": [
    "What could be done to make the model more accurate?"
   ]
  }
 ],
 "metadata": {
  "kernelspec": {
   "display_name": "Python 3 (ipykernel)",
   "language": "python",
   "name": "python3"
  },
  "language_info": {
   "codemirror_mode": {
    "name": "ipython",
    "version": 3
   },
   "file_extension": ".py",
   "mimetype": "text/x-python",
   "name": "python",
   "nbconvert_exporter": "python",
   "pygments_lexer": "ipython3",
   "version": "3.9.12"
  }
 },
 "nbformat": 4,
 "nbformat_minor": 5
}
